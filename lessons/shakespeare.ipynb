{
 "cells": [
  {
   "cell_type": "markdown",
   "metadata": {},
   "source": [
    "# Quantifying Shakespeare\n",
    "\n",
    "In this notebook we iwll find frequency of words and letters used by Shakespeare."
   ]
  },
  {
   "cell_type": "code",
   "execution_count": 1,
   "metadata": {},
   "outputs": [
    {
     "name": "stdout",
     "output_type": "stream",
     "text": [
      "182047\n"
     ]
    }
   ],
   "source": [
    "from io import TextIOWrapper\n",
    "\n",
    "def read_file(filename: str) -> list[str]:\n",
    "    \"\"\"Given the name of a file, return a list of its lines.\"\"\"\n",
    "    lines: list[str] = []\n",
    "    file: TextIOWrapper = open(filename, \"r\", encoding=\"utf8\")\n",
    "    for line in file:\n",
    "        line = line.strip()\n",
    "        line = line.lower()\n",
    "        if line != \"\":\n",
    "            lines.append(line)\n",
    "        lines.append(line)\n",
    "    return lines\n",
    "\n",
    "\n",
    "shakespeare_lines: list[str] = read_file(\"./shakespeare.txt\")\n",
    "print(len(shakespeare_lines))"
   ]
  },
  {
   "cell_type": "markdown",
   "metadata": {},
   "source": [
    "# Step 2\n",
    "Find the frequence of use of each letter."
   ]
  },
  {
   "cell_type": "code",
   "execution_count": 8,
   "metadata": {},
   "outputs": [
    {
     "name": "stdout",
     "output_type": "stream",
     "text": [
      "{'t': 499080, 'h': 361956, 'i': 384384, 's': 376568, 'e': 683022, 'x': 7836, 'f': 125794, 'l': 258554, 'p': 88266, 'r': 363966, 'n': 372076, 'd': 230642, 'b': 95082, 'y': 144408, 'o': 479644, 'j': 7210, 'c': 136428, 'g': 106544, 'u': 196418, 'a': 439502, 'w': 137112, 'm': 168470, 'k': 55792, 'v': 55854, 'z': 2414, 'q': 5762}\n"
     ]
    }
   ],
   "source": [
    "def tally(count: dict[str, int], key: str) -> None:\n",
    "    \"\"\"Mutate dictionary to increment a key by 1 if xxxxx.\"\"\"\n",
    "    if key in count:\n",
    "        count[key] += 1\n",
    "    else:\n",
    "        count[key] = 1\n",
    "\n",
    "\n",
    "def count_letters(lines: list[str]) -> dict[str, int]:\n",
    "    \"\"\"Count frequencies of all letters in a string.\"\"\"\n",
    "    counts: dict[str, int] = {}\n",
    "    #loop through all lines\n",
    "    #for each line loop thorugh all characters\n",
    "    #tally char into the counts dictionary\n",
    "    #challenge: only tally chars, not numbers\n",
    "    for line in lines:\n",
    "        for char in line:\n",
    "            if char >= \"a\" and char <= \"z\":\n",
    "                tally(counts, char)\n",
    "    return counts\n",
    "\n",
    "\n",
    "shakespeare_letters: dict[str, int] = count_letters(shakespeare_lines)\n",
    "print(shakespeare_letters)"
   ]
  },
  {
   "cell_type": "markdown",
   "metadata": {},
   "source": [
    "Let's create a visualization of this data with a bar chart."
   ]
  },
  {
   "cell_type": "code",
   "execution_count": 16,
   "metadata": {},
   "outputs": [
    {
     "name": "stdout",
     "output_type": "stream",
     "text": [
      "{'a': 439502, 'b': 95082, 'c': 136428, 'd': 230642, 'e': 683022, 'f': 125794, 'g': 106544, 'h': 361956, 'i': 384384, 'j': 7210, 'k': 55792, 'l': 258554, 'm': 168470, 'n': 372076, 'o': 479644, 'p': 88266, 'q': 5762, 'r': 363966, 's': 376568, 't': 499080, 'u': 196418, 'v': 55854, 'w': 137112, 'x': 7836, 'y': 144408, 'z': 2414}\n"
     ]
    }
   ],
   "source": [
    "items_in_dict: list[tuple[str, int]] = list(shakespeare_letters.items())\n",
    "items_in_dict = sorted(items_in_dict)\n",
    "sorted_letters: dict[str, str] = dict(items_in_dict)\n",
    "print(sorted_letters)"
   ]
  },
  {
   "cell_type": "code",
   "execution_count": 17,
   "metadata": {},
   "outputs": [
    {
     "data": {
      "text/plain": [
       "<BarContainer object of 26 artists>"
      ]
     },
     "execution_count": 17,
     "metadata": {},
     "output_type": "execute_result"
    },
    {
     "data": {
      "image/png": "[encoded data removed]",
      "text/plain": [
       "<Figure size 432x288 with 1 Axes>"
      ]
     },
     "metadata": {
      "needs_background": "light"
     },
     "output_type": "display_data"
    }
   ],
   "source": [
    "from matplotlib import pyplot\n",
    "pyplot.title(\"Frequency of Letters\")\n",
    "pyplot.xlabel(\"Letters\")\n",
    "pyplot.ylabel(\"Frequencies\")\n",
    "lables: list[str] = list(sorted_letters.keys())\n",
    "values: list[str] = list(sorted_letters.values())\n",
    "pyplot.bar(lables, values)"
   ]
  }
 ],
 "metadata": {
  "interpreter": {
   "hash": "aee8b7b246df8f9039afb4144a1f6fd8d2ca17a180786b69acc140d282b71a49"
  },
  "kernelspec": {
   "display_name": "Python 3.10.1 64-bit",
   "language": "python",
   "name": "python3"
  },
  "language_info": {
   "codemirror_mode": {
    "name": "ipython",
    "version": 3
   },
   "file_extension": ".py",
   "mimetype": "text/x-python",
   "name": "python",
   "nbconvert_exporter": "python",
   "pygments_lexer": "ipython3",
   "version": "3.10.1"
  },
  "orig_nbformat": 4
 },
 "nbformat": 4,
 "nbformat_minor": 2
}
